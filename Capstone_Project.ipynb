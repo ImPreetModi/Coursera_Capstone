{
 "cells": [
  {
   "cell_type": "markdown",
   "id": "informational-scanner",
   "metadata": {},
   "source": [
    "<h2>THESE NOTEBOOK WILL BE ONLY USED FOR COURSERA DATA SCIENCE CAPSTONE PROJECT.</h2>"
   ]
  },
  {
   "cell_type": "code",
   "execution_count": 1,
   "id": "abstract-freight",
   "metadata": {},
   "outputs": [],
   "source": [
    "import pandas as pd\n",
    "import numpy as np"
   ]
  },
  {
   "cell_type": "markdown",
   "id": "identical-focus",
   "metadata": {},
   "source": [
    "<h4>Hello Capstone Project Course!</h4>"
   ]
  }
 ],
 "metadata": {
  "kernelspec": {
   "display_name": "Python 3",
   "language": "python",
   "name": "python3"
  },
  "language_info": {
   "codemirror_mode": {
    "name": "ipython",
    "version": 3
   },
   "file_extension": ".py",
   "mimetype": "text/x-python",
   "name": "python",
   "nbconvert_exporter": "python",
   "pygments_lexer": "ipython3",
   "version": "3.9.2"
  }
 },
 "nbformat": 4,
 "nbformat_minor": 5
}
